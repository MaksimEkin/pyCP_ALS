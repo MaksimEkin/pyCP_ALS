{
 "cells": [
  {
   "cell_type": "markdown",
   "id": "f29ed46c-4dec-4150-a467-3407f153cd1c",
   "metadata": {},
   "source": [
    "# Generate TOY Tensor"
   ]
  },
  {
   "cell_type": "code",
   "execution_count": 1,
   "id": "bc3b0d28-4874-40f3-b2cc-cfb4d4e2401d",
   "metadata": {},
   "outputs": [],
   "source": [
    "import random\n",
    "import numpy as np\n",
    "\n",
    "random.seed(42)\n",
    "np.random.seed(42)"
   ]
  },
  {
   "cell_type": "code",
   "execution_count": 4,
   "id": "36bdc839-1dac-4e41-a811-18f62f87b0ca",
   "metadata": {},
   "outputs": [],
   "source": [
    "nnz_coords = list()\n",
    "nnz_values = list()\n",
    "\n",
    "for ii in range(1000):\n",
    "    nnz_coords.append(list(np.random.randint(10, size=4)))\n",
    "    nnz_values.append(random.randint(1, 20))"
   ]
  },
  {
   "cell_type": "code",
   "execution_count": 12,
   "id": "9e29c661-0f2f-4342-826f-aa3a8a20b7ce",
   "metadata": {},
   "outputs": [],
   "source": [
    "nnz_coords = np.array(nnz_coords)\n",
    "nnz_values = np.array(nnz_values)"
   ]
  },
  {
   "cell_type": "code",
   "execution_count": 13,
   "id": "07514b1f-05c3-428c-9039-134c27de23eb",
   "metadata": {},
   "outputs": [
    {
     "data": {
      "text/plain": [
       "array([[4, 6, 7, 8],\n",
       "       [2, 2, 3, 4],\n",
       "       [9, 0, 6, 8],\n",
       "       [7, 4, 3, 6],\n",
       "       [4, 6, 0, 0],\n",
       "       [9, 2, 1, 1],\n",
       "       [6, 9, 1, 3],\n",
       "       [1, 5, 7, 9],\n",
       "       [3, 4, 3, 2],\n",
       "       [4, 8, 7, 7]])"
      ]
     },
     "execution_count": 13,
     "metadata": {},
     "output_type": "execute_result"
    }
   ],
   "source": [
    "nnz_coords[:10]"
   ]
  },
  {
   "cell_type": "code",
   "execution_count": 14,
   "id": "9bc7c74d-c960-47b7-9300-1260734e257e",
   "metadata": {},
   "outputs": [
    {
     "data": {
      "text/plain": [
       "array([10, 18,  6,  3, 15, 12, 19, 10, 14,  9])"
      ]
     },
     "execution_count": 14,
     "metadata": {},
     "output_type": "execute_result"
    }
   ],
   "source": [
    "nnz_values[:10]"
   ]
  },
  {
   "cell_type": "code",
   "execution_count": 19,
   "id": "6b6fbe9b-f5e7-4403-b009-0e79ae0a8972",
   "metadata": {},
   "outputs": [],
   "source": [
    "import pickle\n",
    "\n",
    "toy_data = {\n",
    "    \"nnz_values\":nnz_values,\n",
    "    \"nnz_coords\":nnz_coords,\n",
    "}"
   ]
  },
  {
   "cell_type": "code",
   "execution_count": 21,
   "id": "228059b1-7bd3-42bb-9611-1a41f08c5ef1",
   "metadata": {},
   "outputs": [],
   "source": [
    "pickle.dump(toy_data, open(\"../data/toy_tensor.p\", \"wb\"))"
   ]
  },
  {
   "cell_type": "markdown",
   "id": "c43901bc-eb1f-46ae-901d-78fc3e6c5d5c",
   "metadata": {},
   "source": [
    "# Decompose"
   ]
  },
  {
   "cell_type": "code",
   "execution_count": 15,
   "id": "a06da80b-06e6-4993-9a3d-4d28861af247",
   "metadata": {},
   "outputs": [],
   "source": [
    "from pyCP_ALS import CP_ALS"
   ]
  },
  {
   "cell_type": "code",
   "execution_count": 16,
   "id": "6f0e8e96-4c65-45cb-827d-384b8479a692",
   "metadata": {},
   "outputs": [],
   "source": [
    "model = CP_ALS(\n",
    "    tol=1e-4, \n",
    "    n_iters=50, \n",
    "    verbose=True, \n",
    "    fixsigns=True, \n",
    "    random_state=42,\n",
    ")"
   ]
  },
  {
   "cell_type": "code",
   "execution_count": 17,
   "id": "be08acbf-710e-4040-b029-90f0ee687ab1",
   "metadata": {},
   "outputs": [
    {
     "name": "stdout",
     "output_type": "stream",
     "text": [
      "CP_ALS:\n"
     ]
    },
    {
     "name": "stderr",
     "output_type": "stream",
     "text": [
      " 10%|█         | 5/50 [00:00<00:00, 77.43it/s]"
     ]
    },
    {
     "name": "stdout",
     "output_type": "stream",
     "text": [
      "\n",
      "Final fit= 0.04577595697005665\n"
     ]
    },
    {
     "name": "stderr",
     "output_type": "stream",
     "text": [
      "\n"
     ]
    }
   ],
   "source": [
    "M = model.fit(\n",
    "    coords=nnz_coords, \n",
    "    values=nnz_values, \n",
    "    rank=2, \n",
    "    Minit=\"random\",\n",
    ")"
   ]
  },
  {
   "cell_type": "code",
   "execution_count": 18,
   "id": "1fb1ff44-ae06-416c-897a-9c45d3288592",
   "metadata": {},
   "outputs": [
    {
     "data": {
      "text/plain": [
       "{'Factors': {'0': array([[0.09650137, 0.04819318],\n",
       "         [0.082541  , 0.17229741],\n",
       "         [0.08013587, 0.11169198],\n",
       "         [0.03861088, 0.19127321],\n",
       "         [0.13725587, 0.04377921],\n",
       "         [0.12993024, 0.12769648],\n",
       "         [0.12809936, 0.04784127],\n",
       "         [0.09629523, 0.10267595],\n",
       "         [0.0912235 , 0.1117745 ],\n",
       "         [0.11940669, 0.04277679]]),\n",
       "  '1': array([[0.11041563, 0.0183535 ],\n",
       "         [0.0377896 , 0.20642951],\n",
       "         [0.10255975, 0.03401026],\n",
       "         [0.14516542, 0.08237737],\n",
       "         [0.10094111, 0.06158447],\n",
       "         [0.01157974, 0.26660263],\n",
       "         [0.11380852, 0.12738449],\n",
       "         [0.11659036, 0.07243022],\n",
       "         [0.11818024, 0.06318872],\n",
       "         [0.14296963, 0.06763883]]),\n",
       "  '2': array([[0.11999027, 0.06205078],\n",
       "         [0.11335049, 0.0686498 ],\n",
       "         [0.10838785, 0.07016074],\n",
       "         [0.06735756, 0.16323782],\n",
       "         [0.091595  , 0.14686764],\n",
       "         [0.07845672, 0.09921144],\n",
       "         [0.13035669, 0.06138077],\n",
       "         [0.10892826, 0.0919206 ],\n",
       "         [0.0930695 , 0.09060861],\n",
       "         [0.08850766, 0.1459118 ]]),\n",
       "  '3': array([[0.10712561, 0.13235704],\n",
       "         [0.09600802, 0.14461139],\n",
       "         [0.06340375, 0.14646037],\n",
       "         [0.08987077, 0.03901303],\n",
       "         [0.10252169, 0.0439843 ],\n",
       "         [0.10065103, 0.13140817],\n",
       "         [0.12602406, 0.07528687],\n",
       "         [0.14041433, 0.03934849],\n",
       "         [0.09523812, 0.09648617],\n",
       "         [0.07874261, 0.15104417]])},\n",
       " 'Weights': array([6863.537 , 3673.6245], dtype=float32)}"
      ]
     },
     "execution_count": 18,
     "metadata": {},
     "output_type": "execute_result"
    }
   ],
   "source": [
    "M"
   ]
  },
  {
   "cell_type": "code",
   "execution_count": null,
   "id": "f6d16b72-5b76-4f83-86f0-2c99e8a41461",
   "metadata": {},
   "outputs": [],
   "source": []
  }
 ],
 "metadata": {
  "kernelspec": {
   "display_name": "pyCP_ALS",
   "language": "python",
   "name": "pycp_als"
  },
  "language_info": {
   "codemirror_mode": {
    "name": "ipython",
    "version": 3
   },
   "file_extension": ".py",
   "mimetype": "text/x-python",
   "name": "python",
   "nbconvert_exporter": "python",
   "pygments_lexer": "ipython3",
   "version": "3.8.5"
  }
 },
 "nbformat": 4,
 "nbformat_minor": 5
}
